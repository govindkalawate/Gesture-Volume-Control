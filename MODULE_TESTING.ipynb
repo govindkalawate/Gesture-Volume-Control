{
 "cells": [
  {
   "cell_type": "code",
   "execution_count": 1,
   "id": "7e622b55-8d36-4e7c-8b0a-477b43fe6a77",
   "metadata": {},
   "outputs": [],
   "source": [
    "def test_hand_detector_initialization():\n",
    "    detector = htm.handDetector(mode=True, maxHands=1, detectionCon=0.8, trackCon=0.7)\n",
    "    \n",
    "    assert detector.mode == True\n",
    "    assert detector.maxHands == 1\n",
    "    assert detector.detectionCon == 0.8\n",
    "    assert detector.trackCon == 0.7\n",
    "    assert detector.hands is not None\n",
    "    assert detector.mpDraw is not None\n"
   ]
  },
  {
   "cell_type": "code",
   "execution_count": 2,
   "id": "8058c04b-5bf2-4d55-839f-563b1f14ae00",
   "metadata": {},
   "outputs": [],
   "source": [
    "def test_find_hands():\n",
    "    detector = htm.handDetector(detectionCon=0.7)\n",
    "    img = np.zeros((480, 640, 3), dtype=np.uint8) \n",
    "    img_with_hands = detector.findHands(img, draw=False)\n",
    "    \n",
    "    assert img_with_hands is not None\n",
    "    \n"
   ]
  },
  {
   "cell_type": "code",
   "execution_count": 3,
   "id": "f42f2c4f-d7c9-4328-894b-77bd620090a1",
   "metadata": {},
   "outputs": [],
   "source": [
    "def test_find_position():\n",
    "    detector = htm.handDetector(detectionCon=0.7)\n",
    "    img = np.zeros((480, 640, 3), dtype=np.uint8)  # Creating a black image for testing\n",
    "    \n",
    "    detector.findHands(img, draw=False)  # Simulate finding hands first\n",
    "    lmList, bbox = detector.findPosition(img, draw=False)\n",
    "    \n",
    "    assert isinstance(lmList, list)\n",
    "    assert len(lmList) == 21  \n",
    "    assert isinstance(bbox, tuple)\n",
    "    assert len(bbox) == 4  \n"
   ]
  },
  {
   "cell_type": "code",
   "execution_count": null,
   "id": "1ba03ec2-d105-43e1-8aa2-0db47b8851e6",
   "metadata": {},
   "outputs": [],
   "source": [
    "def test_find_distance():\n",
    "    detector = htm.handDetector(detectionCon=0.7)\n",
    "    img = np.zeros((480, 640, 3), dtype=np.uint8)  # Creating a black image for testing\n",
    "    \n",
    "    detector.findHands(img, draw=False)  # Simulate finding hands first\n",
    "    lmList, bbox = detector.findPosition(img, draw=False)\n",
    "    \n",
    "    # Manually setting landmark positions for testing\n",
    "    detector.lmList = [[4, 100, 100], [8, 200, 200]]\n",
    "    \n",
    "    length, img_with_distance, points = detector.findDistance(0, 1, img, draw=False)\n",
    "    \n",
    "    assert length == math.hypot(200 - 100, 200 - 100) \n",
    "    assert points == [100, 100, 200, 200, 150, 150]  \n"
   ]
  },
  {
   "cell_type": "code",
   "execution_count": 4,
   "id": "ae6da3c1-9e43-4e2d-be00-6633805f528b",
   "metadata": {},
   "outputs": [],
   "source": [
    "def test_volume_control_integration():\n",
    "    devices = AudioUtilities.GetSpeakers()\n",
    "    interface = devices.Activate(IAudioEndpointVolume._iid_, CLSCTX_ALL, None)\n",
    "    volume = cast(interface, POINTER(IAudioEndpointVolume))\n",
    "    \n",
    "    volRange = volume.GetVolumeRange()\n",
    "    minVol = volRange[0]\n",
    "    maxVol = volRange[1]\n",
    "    \n",
    "    # Testing if the volume can be set within the expected range\n",
    "    vol = np.interp(150, [50, 300], [minVol, maxVol])\n",
    "    volume.SetMasterVolumeLevel(vol, None)\n",
    "    \n",
    "    assert volume.GetMasterVolumeLevel() == vol\n"
   ]
  },
  {
   "cell_type": "code",
   "execution_count": 5,
   "id": "76653191-f3e4-4781-884c-d6df13b253a4",
   "metadata": {},
   "outputs": [],
   "source": [
    "def test_main_loop():\n",
    "    pTime = 0\n",
    "    cap = cv2.VideoCapture(0)  \n",
    "    detector = htm.handDetector()  \n",
    "    success, img = cap.read()\n",
    "    assert success == True  \n",
    "    img = detector.findHands(img)\n",
    "    lmList = detector.findPosition(img)\n",
    "    assert isinstance(lmList, list)  \n",
    "    cap.release()\n"
   ]
  },
  {
   "cell_type": "code",
   "execution_count": null,
   "id": "95438f1b-5ab2-4ce4-bb4f-a072acf93594",
   "metadata": {},
   "outputs": [],
   "source": [
    "from unittest.mock import MagicMock\n",
    "def test_find_hands_with_mock():\n",
    "    detector = htm.handDetector(detectionCon=0.7)\n",
    "    img = MagicMock()  # Mocking an image instead of using an actual image\n",
    "    \n",
    "    detector.findHands = MagicMock(return_value=img)\n",
    "    result = detector.findHands(img)\n",
    "    assert result == img\n"
   ]
  }
 ],
 "metadata": {
  "kernelspec": {
   "display_name": "Python 3 (ipykernel)",
   "language": "python",
   "name": "python3"
  },
  "language_info": {
   "codemirror_mode": {
    "name": "ipython",
    "version": 3
   },
   "file_extension": ".py",
   "mimetype": "text/x-python",
   "name": "python",
   "nbconvert_exporter": "python",
   "pygments_lexer": "ipython3",
   "version": "3.9.13"
  }
 },
 "nbformat": 4,
 "nbformat_minor": 5
}
